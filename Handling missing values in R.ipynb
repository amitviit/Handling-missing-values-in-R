{
 "cells": [
  {
   "cell_type": "markdown",
   "metadata": {},
   "source": [
    "# Handling missing values in R\n",
    "\n",
    "\n",
    "* is.na : gives boolean list whether the given value is NA\n",
    "* complete.cases: checks for complete cases\n",
    "* na.omit : fetches records with no missing values\n",
    "\n",
    "### Advanced methods like multiple imputation can be used that work in three stages\n",
    "\n",
    "* Bootstrap\n",
    "* Analyse\n",
    "* combine\n",
    "\n",
    "* package name : Amelia"
   ]
  },
  {
   "cell_type": "code",
   "execution_count": 26,
   "metadata": {
    "collapsed": false
   },
   "outputs": [
    {
     "data": {
      "text/html": [
       "<table>\n",
       "<thead><tr><th scope=col>name</th><th scope=col>genus</th><th scope=col>vore</th><th scope=col>order</th><th scope=col>conservation</th><th scope=col>sleep_total</th><th scope=col>sleep_rem</th><th scope=col>sleep_cycle</th><th scope=col>awake</th><th scope=col>brainwt</th><th scope=col>bodywt</th></tr></thead>\n",
       "<tbody>\n",
       "\t<tr><td>Cheetah                   </td><td>Acinonyx                  </td><td>carni                     </td><td>Carnivora                 </td><td>lc                        </td><td>12.1                      </td><td> NA                       </td><td>       NA                 </td><td>11.9                      </td><td>     NA                   </td><td> 50.000                   </td></tr>\n",
       "\t<tr><td>Owl monkey                </td><td>Aotus                     </td><td>omni                      </td><td>Primates                  </td><td>NA                        </td><td>17.0                      </td><td>1.8                       </td><td>       NA                 </td><td> 7.0                      </td><td>0.01550                   </td><td>  0.480                   </td></tr>\n",
       "\t<tr><td>Mountain beaver           </td><td>Aplodontia                </td><td>herbi                     </td><td>Rodentia                  </td><td>nt                        </td><td>14.4                      </td><td>2.4                       </td><td>       NA                 </td><td> 9.6                      </td><td>     NA                   </td><td>  1.350                   </td></tr>\n",
       "\t<tr><td>Greater short-tailed shrew</td><td>Blarina                   </td><td>omni                      </td><td>Soricomorpha              </td><td>lc                        </td><td>14.9                      </td><td>2.3                       </td><td>0.1333333                 </td><td> 9.1                      </td><td>0.00029                   </td><td>  0.019                   </td></tr>\n",
       "\t<tr><td>Cow                       </td><td>Bos                       </td><td>herbi                     </td><td>Artiodactyla              </td><td>domesticated              </td><td> 4.0                      </td><td>0.7                       </td><td>0.6666667                 </td><td>20.0                      </td><td>0.42300                   </td><td>600.000                   </td></tr>\n",
       "\t<tr><td>Three-toed sloth          </td><td>Bradypus                  </td><td>herbi                     </td><td>Pilosa                    </td><td>NA                        </td><td>14.4                      </td><td>2.2                       </td><td>0.7666667                 </td><td> 9.6                      </td><td>     NA                   </td><td>  3.850                   </td></tr>\n",
       "</tbody>\n",
       "</table>\n"
      ],
      "text/latex": [
       "\\begin{tabular}{r|lllllllllll}\n",
       " name & genus & vore & order & conservation & sleep\\_total & sleep\\_rem & sleep\\_cycle & awake & brainwt & bodywt\\\\\n",
       "\\hline\n",
       "\t Cheetah                    & Acinonyx                   & carni                      & Carnivora                  & lc                         & 12.1                       &  NA                        &        NA                  & 11.9                       &      NA                    &  50.000                   \\\\\n",
       "\t Owl monkey                 & Aotus                      & omni                       & Primates                   & NA                         & 17.0                       & 1.8                        &        NA                  &  7.0                       & 0.01550                    &   0.480                   \\\\\n",
       "\t Mountain beaver            & Aplodontia                 & herbi                      & Rodentia                   & nt                         & 14.4                       & 2.4                        &        NA                  &  9.6                       &      NA                    &   1.350                   \\\\\n",
       "\t Greater short-tailed shrew & Blarina                    & omni                       & Soricomorpha               & lc                         & 14.9                       & 2.3                        & 0.1333333                  &  9.1                       & 0.00029                    &   0.019                   \\\\\n",
       "\t Cow                        & Bos                        & herbi                      & Artiodactyla               & domesticated               &  4.0                       & 0.7                        & 0.6666667                  & 20.0                       & 0.42300                    & 600.000                   \\\\\n",
       "\t Three-toed sloth           & Bradypus                   & herbi                      & Pilosa                     & NA                         & 14.4                       & 2.2                        & 0.7666667                  &  9.6                       &      NA                    &   3.850                   \\\\\n",
       "\\end{tabular}\n"
      ],
      "text/markdown": [
       "\n",
       "name | genus | vore | order | conservation | sleep_total | sleep_rem | sleep_cycle | awake | brainwt | bodywt | \n",
       "|---|---|---|---|---|---|\n",
       "| Cheetah                    | Acinonyx                   | carni                      | Carnivora                  | lc                         | 12.1                       |  NA                        |        NA                  | 11.9                       |      NA                    |  50.000                    | \n",
       "| Owl monkey                 | Aotus                      | omni                       | Primates                   | NA                         | 17.0                       | 1.8                        |        NA                  |  7.0                       | 0.01550                    |   0.480                    | \n",
       "| Mountain beaver            | Aplodontia                 | herbi                      | Rodentia                   | nt                         | 14.4                       | 2.4                        |        NA                  |  9.6                       |      NA                    |   1.350                    | \n",
       "| Greater short-tailed shrew | Blarina                    | omni                       | Soricomorpha               | lc                         | 14.9                       | 2.3                        | 0.1333333                  |  9.1                       | 0.00029                    |   0.019                    | \n",
       "| Cow                        | Bos                        | herbi                      | Artiodactyla               | domesticated               |  4.0                       | 0.7                        | 0.6666667                  | 20.0                       | 0.42300                    | 600.000                    | \n",
       "| Three-toed sloth           | Bradypus                   | herbi                      | Pilosa                     | NA                         | 14.4                       | 2.2                        | 0.7666667                  |  9.6                       |      NA                    |   3.850                    | \n",
       "\n",
       "\n"
      ],
      "text/plain": [
       "  name                       genus      vore  order        conservation\n",
       "1 Cheetah                    Acinonyx   carni Carnivora    lc          \n",
       "2 Owl monkey                 Aotus      omni  Primates     NA          \n",
       "3 Mountain beaver            Aplodontia herbi Rodentia     nt          \n",
       "4 Greater short-tailed shrew Blarina    omni  Soricomorpha lc          \n",
       "5 Cow                        Bos        herbi Artiodactyla domesticated\n",
       "6 Three-toed sloth           Bradypus   herbi Pilosa       NA          \n",
       "  sleep_total sleep_rem sleep_cycle awake brainwt bodywt \n",
       "1 12.1         NA              NA   11.9       NA  50.000\n",
       "2 17.0        1.8              NA    7.0  0.01550   0.480\n",
       "3 14.4        2.4              NA    9.6       NA   1.350\n",
       "4 14.9        2.3       0.1333333    9.1  0.00029   0.019\n",
       "5  4.0        0.7       0.6666667   20.0  0.42300 600.000\n",
       "6 14.4        2.2       0.7666667    9.6       NA   3.850"
      ]
     },
     "metadata": {},
     "output_type": "display_data"
    }
   ],
   "source": [
    "url <- \"https://raw.githubusercontent.com/genomicsclass/dagdata/master/inst/extdata/msleep_ggplot2.csv\"\n",
    "filename <- \"msleep_ggplot2.csv\"\n",
    "\n",
    "if (!file.exists(filename)) download(url,filename)\n",
    "    \n",
    "msleep <- read.csv(\"msleep_ggplot2.csv\")\n",
    "head(msleep)"
   ]
  },
  {
   "cell_type": "markdown",
   "metadata": {},
   "source": [
    "## Check the whole dataset for missing values"
   ]
  },
  {
   "cell_type": "code",
   "execution_count": 3,
   "metadata": {
    "collapsed": false
   },
   "outputs": [
    {
     "data": {
      "text/html": [
       "<table>\n",
       "<thead><tr><th scope=col>name</th><th scope=col>genus</th><th scope=col>vore</th><th scope=col>order</th><th scope=col>conservation</th><th scope=col>sleep_total</th><th scope=col>sleep_rem</th><th scope=col>sleep_cycle</th><th scope=col>awake</th><th scope=col>brainwt</th><th scope=col>bodywt</th></tr></thead>\n",
       "<tbody>\n",
       "\t<tr><td>FALSE</td><td>FALSE</td><td>FALSE</td><td>FALSE</td><td>FALSE</td><td>FALSE</td><td> TRUE</td><td> TRUE</td><td>FALSE</td><td> TRUE</td><td>FALSE</td></tr>\n",
       "\t<tr><td>FALSE</td><td>FALSE</td><td>FALSE</td><td>FALSE</td><td> TRUE</td><td>FALSE</td><td>FALSE</td><td> TRUE</td><td>FALSE</td><td>FALSE</td><td>FALSE</td></tr>\n",
       "\t<tr><td>FALSE</td><td>FALSE</td><td>FALSE</td><td>FALSE</td><td>FALSE</td><td>FALSE</td><td>FALSE</td><td> TRUE</td><td>FALSE</td><td> TRUE</td><td>FALSE</td></tr>\n",
       "\t<tr><td>FALSE</td><td>FALSE</td><td>FALSE</td><td>FALSE</td><td>FALSE</td><td>FALSE</td><td>FALSE</td><td>FALSE</td><td>FALSE</td><td>FALSE</td><td>FALSE</td></tr>\n",
       "\t<tr><td>FALSE</td><td>FALSE</td><td>FALSE</td><td>FALSE</td><td>FALSE</td><td>FALSE</td><td>FALSE</td><td>FALSE</td><td>FALSE</td><td>FALSE</td><td>FALSE</td></tr>\n",
       "\t<tr><td>FALSE</td><td>FALSE</td><td>FALSE</td><td>FALSE</td><td> TRUE</td><td>FALSE</td><td>FALSE</td><td>FALSE</td><td>FALSE</td><td> TRUE</td><td>FALSE</td></tr>\n",
       "</tbody>\n",
       "</table>\n"
      ],
      "text/latex": [
       "\\begin{tabular}{lllllllllll}\n",
       " name & genus & vore & order & conservation & sleep\\_total & sleep\\_rem & sleep\\_cycle & awake & brainwt & bodywt\\\\\n",
       "\\hline\n",
       "\t FALSE & FALSE & FALSE & FALSE & FALSE & FALSE &  TRUE &  TRUE & FALSE &  TRUE & FALSE\\\\\n",
       "\t FALSE & FALSE & FALSE & FALSE &  TRUE & FALSE & FALSE &  TRUE & FALSE & FALSE & FALSE\\\\\n",
       "\t FALSE & FALSE & FALSE & FALSE & FALSE & FALSE & FALSE &  TRUE & FALSE &  TRUE & FALSE\\\\\n",
       "\t FALSE & FALSE & FALSE & FALSE & FALSE & FALSE & FALSE & FALSE & FALSE & FALSE & FALSE\\\\\n",
       "\t FALSE & FALSE & FALSE & FALSE & FALSE & FALSE & FALSE & FALSE & FALSE & FALSE & FALSE\\\\\n",
       "\t FALSE & FALSE & FALSE & FALSE &  TRUE & FALSE & FALSE & FALSE & FALSE &  TRUE & FALSE\\\\\n",
       "\\end{tabular}\n"
      ],
      "text/markdown": [
       "\n",
       "name | genus | vore | order | conservation | sleep_total | sleep_rem | sleep_cycle | awake | brainwt | bodywt | \n",
       "|---|---|---|---|---|---|\n",
       "| FALSE | FALSE | FALSE | FALSE | FALSE | FALSE |  TRUE |  TRUE | FALSE |  TRUE | FALSE | \n",
       "| FALSE | FALSE | FALSE | FALSE |  TRUE | FALSE | FALSE |  TRUE | FALSE | FALSE | FALSE | \n",
       "| FALSE | FALSE | FALSE | FALSE | FALSE | FALSE | FALSE |  TRUE | FALSE |  TRUE | FALSE | \n",
       "| FALSE | FALSE | FALSE | FALSE | FALSE | FALSE | FALSE | FALSE | FALSE | FALSE | FALSE | \n",
       "| FALSE | FALSE | FALSE | FALSE | FALSE | FALSE | FALSE | FALSE | FALSE | FALSE | FALSE | \n",
       "| FALSE | FALSE | FALSE | FALSE |  TRUE | FALSE | FALSE | FALSE | FALSE |  TRUE | FALSE | \n",
       "\n",
       "\n"
      ],
      "text/plain": [
       "     name  genus vore  order conservation sleep_total sleep_rem sleep_cycle\n",
       "[1,] FALSE FALSE FALSE FALSE FALSE        FALSE        TRUE      TRUE      \n",
       "[2,] FALSE FALSE FALSE FALSE  TRUE        FALSE       FALSE      TRUE      \n",
       "[3,] FALSE FALSE FALSE FALSE FALSE        FALSE       FALSE      TRUE      \n",
       "[4,] FALSE FALSE FALSE FALSE FALSE        FALSE       FALSE     FALSE      \n",
       "[5,] FALSE FALSE FALSE FALSE FALSE        FALSE       FALSE     FALSE      \n",
       "[6,] FALSE FALSE FALSE FALSE  TRUE        FALSE       FALSE     FALSE      \n",
       "     awake brainwt bodywt\n",
       "[1,] FALSE  TRUE   FALSE \n",
       "[2,] FALSE FALSE   FALSE \n",
       "[3,] FALSE  TRUE   FALSE \n",
       "[4,] FALSE FALSE   FALSE \n",
       "[5,] FALSE FALSE   FALSE \n",
       "[6,] FALSE  TRUE   FALSE "
      ]
     },
     "metadata": {},
     "output_type": "display_data"
    }
   ],
   "source": [
    "\n",
    "head(is.na(msleep))"
   ]
  },
  {
   "cell_type": "markdown",
   "metadata": {},
   "source": [
    "## Replace missing value NA with mean "
   ]
  },
  {
   "cell_type": "code",
   "execution_count": 30,
   "metadata": {
    "collapsed": false
   },
   "outputs": [
    {
     "data": {
      "text/html": [
       "<table>\n",
       "<thead><tr><th scope=col>name</th><th scope=col>genus</th><th scope=col>vore</th><th scope=col>order</th><th scope=col>conservation</th><th scope=col>sleep_total</th><th scope=col>sleep_rem</th><th scope=col>sleep_cycle</th><th scope=col>awake</th><th scope=col>brainwt</th><th scope=col>bodywt</th></tr></thead>\n",
       "<tbody>\n",
       "\t<tr><td>Cheetah                   </td><td>Acinonyx                  </td><td>carni                     </td><td>Carnivora                 </td><td>lc                        </td><td>12.1                      </td><td> NA                       </td><td>       NA                 </td><td>11.9                      </td><td>0.2815814                 </td><td> 50.000                   </td></tr>\n",
       "\t<tr><td>Owl monkey                </td><td>Aotus                     </td><td>omni                      </td><td>Primates                  </td><td>NA                        </td><td>17.0                      </td><td>1.8                       </td><td>       NA                 </td><td> 7.0                      </td><td>0.0155000                 </td><td>  0.480                   </td></tr>\n",
       "\t<tr><td>Mountain beaver           </td><td>Aplodontia                </td><td>herbi                     </td><td>Rodentia                  </td><td>nt                        </td><td>14.4                      </td><td>2.4                       </td><td>       NA                 </td><td> 9.6                      </td><td>0.2815814                 </td><td>  1.350                   </td></tr>\n",
       "\t<tr><td>Greater short-tailed shrew</td><td>Blarina                   </td><td>omni                      </td><td>Soricomorpha              </td><td>lc                        </td><td>14.9                      </td><td>2.3                       </td><td>0.1333333                 </td><td> 9.1                      </td><td>0.0002900                 </td><td>  0.019                   </td></tr>\n",
       "\t<tr><td>Cow                       </td><td>Bos                       </td><td>herbi                     </td><td>Artiodactyla              </td><td>domesticated              </td><td> 4.0                      </td><td>0.7                       </td><td>0.6666667                 </td><td>20.0                      </td><td>0.4230000                 </td><td>600.000                   </td></tr>\n",
       "\t<tr><td>Three-toed sloth          </td><td>Bradypus                  </td><td>herbi                     </td><td>Pilosa                    </td><td>NA                        </td><td>14.4                      </td><td>2.2                       </td><td>0.7666667                 </td><td> 9.6                      </td><td>0.2815814                 </td><td>  3.850                   </td></tr>\n",
       "</tbody>\n",
       "</table>\n"
      ],
      "text/latex": [
       "\\begin{tabular}{r|lllllllllll}\n",
       " name & genus & vore & order & conservation & sleep\\_total & sleep\\_rem & sleep\\_cycle & awake & brainwt & bodywt\\\\\n",
       "\\hline\n",
       "\t Cheetah                    & Acinonyx                   & carni                      & Carnivora                  & lc                         & 12.1                       &  NA                        &        NA                  & 11.9                       & 0.2815814                  &  50.000                   \\\\\n",
       "\t Owl monkey                 & Aotus                      & omni                       & Primates                   & NA                         & 17.0                       & 1.8                        &        NA                  &  7.0                       & 0.0155000                  &   0.480                   \\\\\n",
       "\t Mountain beaver            & Aplodontia                 & herbi                      & Rodentia                   & nt                         & 14.4                       & 2.4                        &        NA                  &  9.6                       & 0.2815814                  &   1.350                   \\\\\n",
       "\t Greater short-tailed shrew & Blarina                    & omni                       & Soricomorpha               & lc                         & 14.9                       & 2.3                        & 0.1333333                  &  9.1                       & 0.0002900                  &   0.019                   \\\\\n",
       "\t Cow                        & Bos                        & herbi                      & Artiodactyla               & domesticated               &  4.0                       & 0.7                        & 0.6666667                  & 20.0                       & 0.4230000                  & 600.000                   \\\\\n",
       "\t Three-toed sloth           & Bradypus                   & herbi                      & Pilosa                     & NA                         & 14.4                       & 2.2                        & 0.7666667                  &  9.6                       & 0.2815814                  &   3.850                   \\\\\n",
       "\\end{tabular}\n"
      ],
      "text/markdown": [
       "\n",
       "name | genus | vore | order | conservation | sleep_total | sleep_rem | sleep_cycle | awake | brainwt | bodywt | \n",
       "|---|---|---|---|---|---|\n",
       "| Cheetah                    | Acinonyx                   | carni                      | Carnivora                  | lc                         | 12.1                       |  NA                        |        NA                  | 11.9                       | 0.2815814                  |  50.000                    | \n",
       "| Owl monkey                 | Aotus                      | omni                       | Primates                   | NA                         | 17.0                       | 1.8                        |        NA                  |  7.0                       | 0.0155000                  |   0.480                    | \n",
       "| Mountain beaver            | Aplodontia                 | herbi                      | Rodentia                   | nt                         | 14.4                       | 2.4                        |        NA                  |  9.6                       | 0.2815814                  |   1.350                    | \n",
       "| Greater short-tailed shrew | Blarina                    | omni                       | Soricomorpha               | lc                         | 14.9                       | 2.3                        | 0.1333333                  |  9.1                       | 0.0002900                  |   0.019                    | \n",
       "| Cow                        | Bos                        | herbi                      | Artiodactyla               | domesticated               |  4.0                       | 0.7                        | 0.6666667                  | 20.0                       | 0.4230000                  | 600.000                    | \n",
       "| Three-toed sloth           | Bradypus                   | herbi                      | Pilosa                     | NA                         | 14.4                       | 2.2                        | 0.7666667                  |  9.6                       | 0.2815814                  |   3.850                    | \n",
       "\n",
       "\n"
      ],
      "text/plain": [
       "  name                       genus      vore  order        conservation\n",
       "1 Cheetah                    Acinonyx   carni Carnivora    lc          \n",
       "2 Owl monkey                 Aotus      omni  Primates     NA          \n",
       "3 Mountain beaver            Aplodontia herbi Rodentia     nt          \n",
       "4 Greater short-tailed shrew Blarina    omni  Soricomorpha lc          \n",
       "5 Cow                        Bos        herbi Artiodactyla domesticated\n",
       "6 Three-toed sloth           Bradypus   herbi Pilosa       NA          \n",
       "  sleep_total sleep_rem sleep_cycle awake brainwt   bodywt \n",
       "1 12.1         NA              NA   11.9  0.2815814  50.000\n",
       "2 17.0        1.8              NA    7.0  0.0155000   0.480\n",
       "3 14.4        2.4              NA    9.6  0.2815814   1.350\n",
       "4 14.9        2.3       0.1333333    9.1  0.0002900   0.019\n",
       "5  4.0        0.7       0.6666667   20.0  0.4230000 600.000\n",
       "6 14.4        2.2       0.7666667    9.6  0.2815814   3.850"
      ]
     },
     "metadata": {},
     "output_type": "display_data"
    }
   ],
   "source": [
    "# replace missing values of a brain weight with mean brain weight\n",
    "\n",
    "msleep$brainwt[is.na(msleep$brainwt)] <- mean(msleep$brainwt, na.rm = TRUE)\n",
    "head(msleep)\n"
   ]
  },
  {
   "cell_type": "markdown",
   "metadata": {},
   "source": [
    "## check for single missing value"
   ]
  },
  {
   "cell_type": "code",
   "execution_count": 35,
   "metadata": {
    "collapsed": false
   },
   "outputs": [
    {
     "data": {
      "text/html": [
       "FALSE"
      ],
      "text/latex": [
       "FALSE"
      ],
      "text/markdown": [
       "FALSE"
      ],
      "text/plain": [
       "[1] FALSE"
      ]
     },
     "metadata": {},
     "output_type": "display_data"
    }
   ],
   "source": [
    "# Check whether there is atleast one null value in the column\n",
    "any(is.na(msleep$order))"
   ]
  },
  {
   "cell_type": "markdown",
   "metadata": {},
   "source": [
    "## Get the dataset without records with NA"
   ]
  },
  {
   "cell_type": "code",
   "execution_count": 38,
   "metadata": {
    "collapsed": false
   },
   "outputs": [
    {
     "data": {
      "text/html": [
       "<table>\n",
       "<thead><tr><th></th><th scope=col>name</th><th scope=col>genus</th><th scope=col>vore</th><th scope=col>order</th><th scope=col>conservation</th><th scope=col>sleep_total</th><th scope=col>sleep_rem</th><th scope=col>sleep_cycle</th><th scope=col>awake</th><th scope=col>brainwt</th><th scope=col>bodywt</th></tr></thead>\n",
       "<tbody>\n",
       "\t<tr><th scope=row>4</th><td>Greater short-tailed shrew</td><td>Blarina                   </td><td>omni                      </td><td>Soricomorpha              </td><td>lc                        </td><td>14.9                      </td><td>2.3                       </td><td>0.1333333                 </td><td> 9.1                      </td><td>0.0002900                 </td><td>  0.019                   </td></tr>\n",
       "\t<tr><th scope=row>5</th><td>Cow                       </td><td>Bos                       </td><td>herbi                     </td><td>Artiodactyla              </td><td>domesticated              </td><td> 4.0                      </td><td>0.7                       </td><td>0.6666667                 </td><td>20.0                      </td><td>0.4230000                 </td><td>600.000                   </td></tr>\n",
       "\t<tr><th scope=row>7</th><td>Northern fur seal         </td><td>Callorhinus               </td><td>carni                     </td><td>Carnivora                 </td><td>vu                        </td><td> 8.7                      </td><td>1.4                       </td><td>0.3833333                 </td><td>15.3                      </td><td>0.2815814                 </td><td> 20.490                   </td></tr>\n",
       "\t<tr><th scope=row>9</th><td>Dog                       </td><td>Canis                     </td><td>carni                     </td><td>Carnivora                 </td><td>domesticated              </td><td>10.1                      </td><td>2.9                       </td><td>0.3333333                 </td><td>13.9                      </td><td>0.0700000                 </td><td> 14.000                   </td></tr>\n",
       "\t<tr><th scope=row>12</th><td>Guinea pig                </td><td>Cavis                     </td><td>herbi                     </td><td>Rodentia                  </td><td>domesticated              </td><td> 9.4                      </td><td>0.8                       </td><td>0.2166667                 </td><td>14.6                      </td><td>0.0055000                 </td><td>  0.728                   </td></tr>\n",
       "\t<tr><th scope=row>14</th><td>Chinchilla                </td><td>Chinchilla                </td><td>herbi                     </td><td>Rodentia                  </td><td>domesticated              </td><td>12.5                      </td><td>1.5                       </td><td>0.1166667                 </td><td>11.5                      </td><td>0.0064000                 </td><td>  0.420                   </td></tr>\n",
       "</tbody>\n",
       "</table>\n"
      ],
      "text/latex": [
       "\\begin{tabular}{r|lllllllllll}\n",
       "  & name & genus & vore & order & conservation & sleep\\_total & sleep\\_rem & sleep\\_cycle & awake & brainwt & bodywt\\\\\n",
       "\\hline\n",
       "\t4 & Greater short-tailed shrew & Blarina                    & omni                       & Soricomorpha               & lc                         & 14.9                       & 2.3                        & 0.1333333                  &  9.1                       & 0.0002900                  &   0.019                   \\\\\n",
       "\t5 & Cow                        & Bos                        & herbi                      & Artiodactyla               & domesticated               &  4.0                       & 0.7                        & 0.6666667                  & 20.0                       & 0.4230000                  & 600.000                   \\\\\n",
       "\t7 & Northern fur seal          & Callorhinus                & carni                      & Carnivora                  & vu                         &  8.7                       & 1.4                        & 0.3833333                  & 15.3                       & 0.2815814                  &  20.490                   \\\\\n",
       "\t9 & Dog                        & Canis                      & carni                      & Carnivora                  & domesticated               & 10.1                       & 2.9                        & 0.3333333                  & 13.9                       & 0.0700000                  &  14.000                   \\\\\n",
       "\t12 & Guinea pig                 & Cavis                      & herbi                      & Rodentia                   & domesticated               &  9.4                       & 0.8                        & 0.2166667                  & 14.6                       & 0.0055000                  &   0.728                   \\\\\n",
       "\t14 & Chinchilla                 & Chinchilla                 & herbi                      & Rodentia                   & domesticated               & 12.5                       & 1.5                        & 0.1166667                  & 11.5                       & 0.0064000                  &   0.420                   \\\\\n",
       "\\end{tabular}\n"
      ],
      "text/markdown": [
       "\n",
       "| <!--/--> | name | genus | vore | order | conservation | sleep_total | sleep_rem | sleep_cycle | awake | brainwt | bodywt | \n",
       "|---|---|---|---|---|---|\n",
       "| 4 | Greater short-tailed shrew | Blarina                    | omni                       | Soricomorpha               | lc                         | 14.9                       | 2.3                        | 0.1333333                  |  9.1                       | 0.0002900                  |   0.019                    | \n",
       "| 5 | Cow                        | Bos                        | herbi                      | Artiodactyla               | domesticated               |  4.0                       | 0.7                        | 0.6666667                  | 20.0                       | 0.4230000                  | 600.000                    | \n",
       "| 7 | Northern fur seal          | Callorhinus                | carni                      | Carnivora                  | vu                         |  8.7                       | 1.4                        | 0.3833333                  | 15.3                       | 0.2815814                  |  20.490                    | \n",
       "| 9 | Dog                        | Canis                      | carni                      | Carnivora                  | domesticated               | 10.1                       | 2.9                        | 0.3333333                  | 13.9                       | 0.0700000                  |  14.000                    | \n",
       "| 12 | Guinea pig                 | Cavis                      | herbi                      | Rodentia                   | domesticated               |  9.4                       | 0.8                        | 0.2166667                  | 14.6                       | 0.0055000                  |   0.728                    | \n",
       "| 14 | Chinchilla                 | Chinchilla                 | herbi                      | Rodentia                   | domesticated               | 12.5                       | 1.5                        | 0.1166667                  | 11.5                       | 0.0064000                  |   0.420                    | \n",
       "\n",
       "\n"
      ],
      "text/plain": [
       "   name                       genus       vore  order        conservation\n",
       "4  Greater short-tailed shrew Blarina     omni  Soricomorpha lc          \n",
       "5  Cow                        Bos         herbi Artiodactyla domesticated\n",
       "7  Northern fur seal          Callorhinus carni Carnivora    vu          \n",
       "9  Dog                        Canis       carni Carnivora    domesticated\n",
       "12 Guinea pig                 Cavis       herbi Rodentia     domesticated\n",
       "14 Chinchilla                 Chinchilla  herbi Rodentia     domesticated\n",
       "   sleep_total sleep_rem sleep_cycle awake brainwt   bodywt \n",
       "4  14.9        2.3       0.1333333    9.1  0.0002900   0.019\n",
       "5   4.0        0.7       0.6666667   20.0  0.4230000 600.000\n",
       "7   8.7        1.4       0.3833333   15.3  0.2815814  20.490\n",
       "9  10.1        2.9       0.3333333   13.9  0.0700000  14.000\n",
       "12  9.4        0.8       0.2166667   14.6  0.0055000   0.728\n",
       "14 12.5        1.5       0.1166667   11.5  0.0064000   0.420"
      ]
     },
     "metadata": {},
     "output_type": "display_data"
    }
   ],
   "source": [
    "# complete cases to find rows without any missing columns\n",
    "head(msleep[complete.cases(msleep),])"
   ]
  },
  {
   "cell_type": "markdown",
   "metadata": {},
   "source": [
    "## find records with atleast one missing column"
   ]
  },
  {
   "cell_type": "code",
   "execution_count": 39,
   "metadata": {
    "collapsed": false
   },
   "outputs": [
    {
     "data": {
      "text/html": [
       "<table>\n",
       "<thead><tr><th></th><th scope=col>name</th><th scope=col>genus</th><th scope=col>vore</th><th scope=col>order</th><th scope=col>conservation</th><th scope=col>sleep_total</th><th scope=col>sleep_rem</th><th scope=col>sleep_cycle</th><th scope=col>awake</th><th scope=col>brainwt</th><th scope=col>bodywt</th></tr></thead>\n",
       "<tbody>\n",
       "\t<tr><th scope=row>1</th><td>Cheetah         </td><td>Acinonyx        </td><td>carni           </td><td>Carnivora       </td><td>lc              </td><td>12.1            </td><td> NA             </td><td>       NA       </td><td>11.9            </td><td>0.2815814       </td><td>50.000          </td></tr>\n",
       "\t<tr><th scope=row>2</th><td>Owl monkey      </td><td>Aotus           </td><td>omni            </td><td>Primates        </td><td>NA              </td><td>17.0            </td><td>1.8             </td><td>       NA       </td><td> 7.0            </td><td>0.0155000       </td><td> 0.480          </td></tr>\n",
       "\t<tr><th scope=row>3</th><td>Mountain beaver </td><td>Aplodontia      </td><td>herbi           </td><td>Rodentia        </td><td>nt              </td><td>14.4            </td><td>2.4             </td><td>       NA       </td><td> 9.6            </td><td>0.2815814       </td><td> 1.350          </td></tr>\n",
       "\t<tr><th scope=row>6</th><td>Three-toed sloth</td><td>Bradypus        </td><td>herbi           </td><td>Pilosa          </td><td>NA              </td><td>14.4            </td><td>2.2             </td><td>0.7666667       </td><td> 9.6            </td><td>0.2815814       </td><td> 3.850          </td></tr>\n",
       "\t<tr><th scope=row>8</th><td>Vesper mouse    </td><td>Calomys         </td><td>NA              </td><td>Rodentia        </td><td>NA              </td><td> 7.0            </td><td> NA             </td><td>       NA       </td><td>17.0            </td><td>0.2815814       </td><td> 0.045          </td></tr>\n",
       "\t<tr><th scope=row>10</th><td>Roe deer        </td><td>Capreolus       </td><td>herbi           </td><td>Artiodactyla    </td><td>lc              </td><td> 3.0            </td><td> NA             </td><td>       NA       </td><td>21.0            </td><td>0.0982000       </td><td>14.800          </td></tr>\n",
       "</tbody>\n",
       "</table>\n"
      ],
      "text/latex": [
       "\\begin{tabular}{r|lllllllllll}\n",
       "  & name & genus & vore & order & conservation & sleep\\_total & sleep\\_rem & sleep\\_cycle & awake & brainwt & bodywt\\\\\n",
       "\\hline\n",
       "\t1 & Cheetah          & Acinonyx         & carni            & Carnivora        & lc               & 12.1             &  NA              &        NA        & 11.9             & 0.2815814        & 50.000          \\\\\n",
       "\t2 & Owl monkey       & Aotus            & omni             & Primates         & NA               & 17.0             & 1.8              &        NA        &  7.0             & 0.0155000        &  0.480          \\\\\n",
       "\t3 & Mountain beaver  & Aplodontia       & herbi            & Rodentia         & nt               & 14.4             & 2.4              &        NA        &  9.6             & 0.2815814        &  1.350          \\\\\n",
       "\t6 & Three-toed sloth & Bradypus         & herbi            & Pilosa           & NA               & 14.4             & 2.2              & 0.7666667        &  9.6             & 0.2815814        &  3.850          \\\\\n",
       "\t8 & Vesper mouse     & Calomys          & NA               & Rodentia         & NA               &  7.0             &  NA              &        NA        & 17.0             & 0.2815814        &  0.045          \\\\\n",
       "\t10 & Roe deer         & Capreolus        & herbi            & Artiodactyla     & lc               &  3.0             &  NA              &        NA        & 21.0             & 0.0982000        & 14.800          \\\\\n",
       "\\end{tabular}\n"
      ],
      "text/markdown": [
       "\n",
       "| <!--/--> | name | genus | vore | order | conservation | sleep_total | sleep_rem | sleep_cycle | awake | brainwt | bodywt | \n",
       "|---|---|---|---|---|---|\n",
       "| 1 | Cheetah          | Acinonyx         | carni            | Carnivora        | lc               | 12.1             |  NA              |        NA        | 11.9             | 0.2815814        | 50.000           | \n",
       "| 2 | Owl monkey       | Aotus            | omni             | Primates         | NA               | 17.0             | 1.8              |        NA        |  7.0             | 0.0155000        |  0.480           | \n",
       "| 3 | Mountain beaver  | Aplodontia       | herbi            | Rodentia         | nt               | 14.4             | 2.4              |        NA        |  9.6             | 0.2815814        |  1.350           | \n",
       "| 6 | Three-toed sloth | Bradypus         | herbi            | Pilosa           | NA               | 14.4             | 2.2              | 0.7666667        |  9.6             | 0.2815814        |  3.850           | \n",
       "| 8 | Vesper mouse     | Calomys          | NA               | Rodentia         | NA               |  7.0             |  NA              |        NA        | 17.0             | 0.2815814        |  0.045           | \n",
       "| 10 | Roe deer         | Capreolus        | herbi            | Artiodactyla     | lc               |  3.0             |  NA              |        NA        | 21.0             | 0.0982000        | 14.800           | \n",
       "\n",
       "\n"
      ],
      "text/plain": [
       "   name             genus      vore  order        conservation sleep_total\n",
       "1  Cheetah          Acinonyx   carni Carnivora    lc           12.1       \n",
       "2  Owl monkey       Aotus      omni  Primates     NA           17.0       \n",
       "3  Mountain beaver  Aplodontia herbi Rodentia     nt           14.4       \n",
       "6  Three-toed sloth Bradypus   herbi Pilosa       NA           14.4       \n",
       "8  Vesper mouse     Calomys    NA    Rodentia     NA            7.0       \n",
       "10 Roe deer         Capreolus  herbi Artiodactyla lc            3.0       \n",
       "   sleep_rem sleep_cycle awake brainwt   bodywt\n",
       "1   NA              NA   11.9  0.2815814 50.000\n",
       "2  1.8              NA    7.0  0.0155000  0.480\n",
       "3  2.4              NA    9.6  0.2815814  1.350\n",
       "6  2.2       0.7666667    9.6  0.2815814  3.850\n",
       "8   NA              NA   17.0  0.2815814  0.045\n",
       "10  NA              NA   21.0  0.0982000 14.800"
      ]
     },
     "metadata": {},
     "output_type": "display_data"
    }
   ],
   "source": [
    "\n",
    "head(msleep[!complete.cases(msleep),])"
   ]
  },
  {
   "cell_type": "markdown",
   "metadata": {},
   "source": [
    "## Create a new dataset with just the complete records"
   ]
  },
  {
   "cell_type": "code",
   "execution_count": 40,
   "metadata": {
    "collapsed": false
   },
   "outputs": [
    {
     "data": {
      "text/html": [
       "<table>\n",
       "<thead><tr><th></th><th scope=col>name</th><th scope=col>genus</th><th scope=col>vore</th><th scope=col>order</th><th scope=col>conservation</th><th scope=col>sleep_total</th><th scope=col>sleep_rem</th><th scope=col>sleep_cycle</th><th scope=col>awake</th><th scope=col>brainwt</th><th scope=col>bodywt</th></tr></thead>\n",
       "<tbody>\n",
       "\t<tr><th scope=row>4</th><td>Greater short-tailed shrew</td><td>Blarina                   </td><td>omni                      </td><td>Soricomorpha              </td><td>lc                        </td><td>14.9                      </td><td>2.3                       </td><td>0.1333333                 </td><td> 9.1                      </td><td>0.0002900                 </td><td>  0.019                   </td></tr>\n",
       "\t<tr><th scope=row>5</th><td>Cow                       </td><td>Bos                       </td><td>herbi                     </td><td>Artiodactyla              </td><td>domesticated              </td><td> 4.0                      </td><td>0.7                       </td><td>0.6666667                 </td><td>20.0                      </td><td>0.4230000                 </td><td>600.000                   </td></tr>\n",
       "\t<tr><th scope=row>7</th><td>Northern fur seal         </td><td>Callorhinus               </td><td>carni                     </td><td>Carnivora                 </td><td>vu                        </td><td> 8.7                      </td><td>1.4                       </td><td>0.3833333                 </td><td>15.3                      </td><td>0.2815814                 </td><td> 20.490                   </td></tr>\n",
       "\t<tr><th scope=row>9</th><td>Dog                       </td><td>Canis                     </td><td>carni                     </td><td>Carnivora                 </td><td>domesticated              </td><td>10.1                      </td><td>2.9                       </td><td>0.3333333                 </td><td>13.9                      </td><td>0.0700000                 </td><td> 14.000                   </td></tr>\n",
       "\t<tr><th scope=row>12</th><td>Guinea pig                </td><td>Cavis                     </td><td>herbi                     </td><td>Rodentia                  </td><td>domesticated              </td><td> 9.4                      </td><td>0.8                       </td><td>0.2166667                 </td><td>14.6                      </td><td>0.0055000                 </td><td>  0.728                   </td></tr>\n",
       "\t<tr><th scope=row>14</th><td>Chinchilla                </td><td>Chinchilla                </td><td>herbi                     </td><td>Rodentia                  </td><td>domesticated              </td><td>12.5                      </td><td>1.5                       </td><td>0.1166667                 </td><td>11.5                      </td><td>0.0064000                 </td><td>  0.420                   </td></tr>\n",
       "</tbody>\n",
       "</table>\n"
      ],
      "text/latex": [
       "\\begin{tabular}{r|lllllllllll}\n",
       "  & name & genus & vore & order & conservation & sleep\\_total & sleep\\_rem & sleep\\_cycle & awake & brainwt & bodywt\\\\\n",
       "\\hline\n",
       "\t4 & Greater short-tailed shrew & Blarina                    & omni                       & Soricomorpha               & lc                         & 14.9                       & 2.3                        & 0.1333333                  &  9.1                       & 0.0002900                  &   0.019                   \\\\\n",
       "\t5 & Cow                        & Bos                        & herbi                      & Artiodactyla               & domesticated               &  4.0                       & 0.7                        & 0.6666667                  & 20.0                       & 0.4230000                  & 600.000                   \\\\\n",
       "\t7 & Northern fur seal          & Callorhinus                & carni                      & Carnivora                  & vu                         &  8.7                       & 1.4                        & 0.3833333                  & 15.3                       & 0.2815814                  &  20.490                   \\\\\n",
       "\t9 & Dog                        & Canis                      & carni                      & Carnivora                  & domesticated               & 10.1                       & 2.9                        & 0.3333333                  & 13.9                       & 0.0700000                  &  14.000                   \\\\\n",
       "\t12 & Guinea pig                 & Cavis                      & herbi                      & Rodentia                   & domesticated               &  9.4                       & 0.8                        & 0.2166667                  & 14.6                       & 0.0055000                  &   0.728                   \\\\\n",
       "\t14 & Chinchilla                 & Chinchilla                 & herbi                      & Rodentia                   & domesticated               & 12.5                       & 1.5                        & 0.1166667                  & 11.5                       & 0.0064000                  &   0.420                   \\\\\n",
       "\\end{tabular}\n"
      ],
      "text/markdown": [
       "\n",
       "| <!--/--> | name | genus | vore | order | conservation | sleep_total | sleep_rem | sleep_cycle | awake | brainwt | bodywt | \n",
       "|---|---|---|---|---|---|\n",
       "| 4 | Greater short-tailed shrew | Blarina                    | omni                       | Soricomorpha               | lc                         | 14.9                       | 2.3                        | 0.1333333                  |  9.1                       | 0.0002900                  |   0.019                    | \n",
       "| 5 | Cow                        | Bos                        | herbi                      | Artiodactyla               | domesticated               |  4.0                       | 0.7                        | 0.6666667                  | 20.0                       | 0.4230000                  | 600.000                    | \n",
       "| 7 | Northern fur seal          | Callorhinus                | carni                      | Carnivora                  | vu                         |  8.7                       | 1.4                        | 0.3833333                  | 15.3                       | 0.2815814                  |  20.490                    | \n",
       "| 9 | Dog                        | Canis                      | carni                      | Carnivora                  | domesticated               | 10.1                       | 2.9                        | 0.3333333                  | 13.9                       | 0.0700000                  |  14.000                    | \n",
       "| 12 | Guinea pig                 | Cavis                      | herbi                      | Rodentia                   | domesticated               |  9.4                       | 0.8                        | 0.2166667                  | 14.6                       | 0.0055000                  |   0.728                    | \n",
       "| 14 | Chinchilla                 | Chinchilla                 | herbi                      | Rodentia                   | domesticated               | 12.5                       | 1.5                        | 0.1166667                  | 11.5                       | 0.0064000                  |   0.420                    | \n",
       "\n",
       "\n"
      ],
      "text/plain": [
       "   name                       genus       vore  order        conservation\n",
       "4  Greater short-tailed shrew Blarina     omni  Soricomorpha lc          \n",
       "5  Cow                        Bos         herbi Artiodactyla domesticated\n",
       "7  Northern fur seal          Callorhinus carni Carnivora    vu          \n",
       "9  Dog                        Canis       carni Carnivora    domesticated\n",
       "12 Guinea pig                 Cavis       herbi Rodentia     domesticated\n",
       "14 Chinchilla                 Chinchilla  herbi Rodentia     domesticated\n",
       "   sleep_total sleep_rem sleep_cycle awake brainwt   bodywt \n",
       "4  14.9        2.3       0.1333333    9.1  0.0002900   0.019\n",
       "5   4.0        0.7       0.6666667   20.0  0.4230000 600.000\n",
       "7   8.7        1.4       0.3833333   15.3  0.2815814  20.490\n",
       "9  10.1        2.9       0.3333333   13.9  0.0700000  14.000\n",
       "12  9.4        0.8       0.2166667   14.6  0.0055000   0.728\n",
       "14 12.5        1.5       0.1166667   11.5  0.0064000   0.420"
      ]
     },
     "metadata": {},
     "output_type": "display_data"
    }
   ],
   "source": [
    "# Create a new dataset with just the complete records\n",
    "new_data = (na.omit(msleep))"
   ]
  },
  {
   "cell_type": "markdown",
   "metadata": {},
   "source": [
    "## Advanced methods like multiple imputation can be used that work in three stages\n",
    "* Bootstrap\n",
    "* Analyse\n",
    "* combine\n",
    "\n",
    "### Amelia is one such library that performs multiple imputations"
   ]
  },
  {
   "cell_type": "code",
   "execution_count": 42,
   "metadata": {
    "collapsed": false
   },
   "outputs": [
    {
     "name": "stderr",
     "output_type": "stream",
     "text": [
      "Installing package into 'C:/Users/Amit/Documents/R/win-library/3.3'\n",
      "(as 'lib' is unspecified)\n"
     ]
    },
    {
     "name": "stdout",
     "output_type": "stream",
     "text": [
      "package 'Amelia' successfully unpacked and MD5 sums checked\n",
      "\n",
      "The downloaded binary packages are in\n",
      "\tC:\\Users\\Amit\\AppData\\Local\\Temp\\RtmpMTOt94\\downloaded_packages\n"
     ]
    }
   ],
   "source": [
    "#install.packages(\"Amelia\", repos = \"https://cloud.r-project.org/\")\n",
    "library(Amelia)"
   ]
  }
 ],
 "metadata": {
  "anaconda-cloud": {},
  "kernelspec": {
   "display_name": "R",
   "language": "R",
   "name": "ir"
  },
  "language_info": {
   "codemirror_mode": "r",
   "file_extension": ".r",
   "mimetype": "text/x-r-source",
   "name": "R",
   "pygments_lexer": "r",
   "version": "3.3.2"
  }
 },
 "nbformat": 4,
 "nbformat_minor": 1
}
